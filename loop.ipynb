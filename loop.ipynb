{
 "cells": [
  {
   "cell_type": "code",
   "execution_count": 1,
   "metadata": {},
   "outputs": [
    {
     "name": "stdout",
     "output_type": "stream",
     "text": [
      "0\n",
      "[0]\n",
      "1\n",
      "[0, 1]\n",
      "2\n",
      "[0, 1, 4]\n",
      "3\n",
      "[0, 1, 4, 9]\n",
      "4\n",
      "[0, 1, 4, 9, 16]\n",
      "5\n",
      "[0, 1, 4, 9, 16, 25]\n",
      "6\n",
      "[0, 1, 4, 9, 16, 25, 36]\n",
      "7\n",
      "[0, 1, 4, 9, 16, 25, 36, 49]\n",
      "8\n",
      "[0, 1, 4, 9, 16, 25, 36, 49, 64]\n",
      "9\n",
      "[0, 1, 4, 9, 16, 25, 36, 49, 64, 81]\n",
      "[0, 1, 8, 27, 64, 125, 216, 343, 512, 729]\n"
     ]
    }
   ],
   "source": [
    "single_digits = range(10)\n",
    "squares=[]\n",
    "for item in single_digits: \n",
    " print(item)\n",
    "\n",
    " squares.append(item**2)\n",
    " print(squares)\n",
    "\n",
    "cubes=[item**3 for item in single_digits ]\n",
    "print(cubes)\n",
    "\n"
   ]
  }
 ],
 "metadata": {
  "kernelspec": {
   "display_name": "Python 3",
   "language": "python",
   "name": "python3"
  },
  "language_info": {
   "codemirror_mode": {
    "name": "ipython",
    "version": 3
   },
   "file_extension": ".py",
   "mimetype": "text/x-python",
   "name": "python",
   "nbconvert_exporter": "python",
   "pygments_lexer": "ipython3",
   "version": "3.13.0"
  }
 },
 "nbformat": 4,
 "nbformat_minor": 2
}
